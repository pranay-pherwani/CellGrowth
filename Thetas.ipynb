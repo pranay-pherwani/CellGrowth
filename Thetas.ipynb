{
  "nbformat": 4,
  "nbformat_minor": 5,
  "metadata": {
    "kernelspec": {
      "display_name": "Python 3",
      "language": "python",
      "name": "python3"
    },
    "language_info": {
      "codemirror_mode": {
        "name": "ipython",
        "version": 3
      },
      "file_extension": ".py",
      "mimetype": "text/x-python",
      "name": "python",
      "nbconvert_exporter": "python",
      "pygments_lexer": "ipython3",
      "version": "3.8.5"
    },
    "colab": {
      "name": "Thetas.ipynb",
      "provenance": [],
      "collapsed_sections": [],
      "include_colab_link": true
    }
  },
  "cells": [
    {
      "cell_type": "markdown",
      "metadata": {
        "id": "view-in-github",
        "colab_type": "text"
      },
      "source": [
        "<a href=\"https://colab.research.google.com/github/pranay-pherwani/CellGrowth/blob/main/Thetas.ipynb\" target=\"_parent\"><img src=\"https://colab.research.google.com/assets/colab-badge.svg\" alt=\"Open In Colab\"/></a>"
      ]
    },
    {
      "cell_type": "code",
      "metadata": {
        "colab": {
          "base_uri": "https://localhost:8080/"
        },
        "id": "featured-prescription",
        "outputId": "c8a851fa-b8b1-434f-b03f-49ea4dd23c1c"
      },
      "source": [
        "import numpy as np\n",
        "import pandas as pd\n",
        "import seaborn as sns \n",
        "from scipy import integrate\n",
        "from mpl_toolkits import mplot3d\n",
        "import random\n",
        "import math\n",
        "import scipy.stats as stats\n",
        "import matplotlib.pyplot as plt\n",
        "!pip install pynverse\n",
        "from pynverse import inversefunc\n",
        "import matplotlib.animation as animation\n",
        "from matplotlib.animation import FuncAnimation\n",
        "import pylab\n",
        "%matplotlib notebook"
      ],
      "id": "featured-prescription",
      "execution_count": null,
      "outputs": [
        {
          "output_type": "stream",
          "name": "stdout",
          "text": [
            "Collecting pynverse\n",
            "  Downloading pynverse-0.1.4.4.tar.gz (8.7 kB)\n",
            "Requirement already satisfied: scipy>=0.11 in /usr/local/lib/python3.7/dist-packages (from pynverse) (1.4.1)\n",
            "Requirement already satisfied: numpy>=1.6 in /usr/local/lib/python3.7/dist-packages (from pynverse) (1.19.5)\n",
            "Building wheels for collected packages: pynverse\n",
            "  Building wheel for pynverse (setup.py) ... \u001b[?25l\u001b[?25hdone\n",
            "  Created wheel for pynverse: filename=pynverse-0.1.4.4-py3-none-any.whl size=6362 sha256=a6e25985de4de0d31739523015e9c91cbdb38af51ed52e7fa41200abc526ce6b\n",
            "  Stored in directory: /root/.cache/pip/wheels/06/eb/74/006b76fdd8229ed3767fef546c825c2924f1def2d023929d9d\n",
            "Successfully built pynverse\n",
            "Installing collected packages: pynverse\n",
            "Successfully installed pynverse-0.1.4.4\n"
          ]
        }
      ]
    },
    {
      "cell_type": "code",
      "metadata": {
        "id": "kNhEC69kNsFz"
      },
      "source": [
        "%matplotlib inline\n",
        "plt.close('all')"
      ],
      "id": "kNhEC69kNsFz",
      "execution_count": null,
      "outputs": []
    },
    {
      "cell_type": "code",
      "metadata": {
        "id": "agricultural-privilege"
      },
      "source": [
        "def q0(th):\n",
        "    if th <=1/2:\n",
        "        return ((2-(2*c))*2*th)+c\n",
        "    else:\n",
        "        return q0(1-th)\n",
        "\n",
        "def q1(th):\n",
        "    if th<=1/2:\n",
        "        return 1/(2*np.sqrt(2)*np.sqrt(th))\n",
        "    else:\n",
        "        return q1(1-th)\n",
        "    \n",
        "def q2(th):\n",
        "    if th<=1/2:\n",
        "        return (-1)*np.power(np.log(2),2)/(th*np.power(np.log(th),3))\n",
        "    else:\n",
        "        return q2(1-th)"
      ],
      "id": "agricultural-privilege",
      "execution_count": null,
      "outputs": []
    },
    {
      "cell_type": "code",
      "metadata": {
        "id": "early-wound"
      },
      "source": [
        "def uniform(U):\n",
        "  return U\n",
        "\n",
        "def u(U):\n",
        "    if U <=1/2:\n",
        "        return 2*(U**2)\n",
        "    else: \n",
        "        #return q1_inverse(1-U)\n",
        "        return 1-q1_inverse(1-U)\n",
        "    \n",
        "def w(U):\n",
        "    if U <= 1/2:\n",
        "        return np.power(math.e, (-np.log(2))* np.sqrt(2)/(2*np.sqrt(U)))\n",
        "    else:\n",
        "        return 1-w(1-U)\n",
        "\n",
        "def triangle(U):\n",
        "    c = 2\n",
        "    if U<1/2:\n",
        "        return (c - np.sqrt(c**2 - 8*c*U + 8*U))/(4*(c - 1))\n",
        "    else:\n",
        "        return 1-triangle(1-U)"
      ],
      "id": "early-wound",
      "execution_count": null,
      "outputs": []
    },
    {
      "cell_type": "code",
      "metadata": {
        "id": "peaceful-riverside"
      },
      "source": [
        "def genThetas(n,inv):\n",
        "    thetas = stats.uniform(0,1).rvs(size=n).tolist()\n",
        "    for i in range((len(thetas))):\n",
        "        thetas[i]=inv(thetas[i])\n",
        "    # for i in range(int(len(thetas)/2)):\n",
        "    #     thetas[i]=inv(thetas[i])\n",
        "    # for i in range(int(len(thetas)/2)+1,len(thetas)):\n",
        "    #     thetas[i]=1-inv(thetas[i])\n",
        "    return thetas"
      ],
      "id": "peaceful-riverside",
      "execution_count": null,
      "outputs": []
    },
    {
      "cell_type": "code",
      "metadata": {
        "id": "positive-institution"
      },
      "source": [
        "z=genThetas(1000000,uniform)"
      ],
      "id": "positive-institution",
      "execution_count": null,
      "outputs": []
    },
    {
      "cell_type": "code",
      "metadata": {
        "colab": {
          "base_uri": "https://localhost:8080/",
          "height": 244
        },
        "id": "surface-joshua",
        "outputId": "8dcffbf6-0b82-4b51-bee8-66dcb69210ee"
      },
      "source": [
        "fig, dx = plt.subplots(figsize=(4,3), sharex=False)\n",
        "plt.hist(z, color = 'blue', edgecolor = 'black',bins = 500);\n",
        "plt.title(\"Uniform\")"
      ],
      "id": "surface-joshua",
      "execution_count": null,
      "outputs": [
        {
          "output_type": "execute_result",
          "data": {
            "text/plain": [
              "Text(0.5, 1.0, 'Uniform')"
            ]
          },
          "metadata": {},
          "execution_count": 17
        },
        {
          "output_type": "display_data",
          "data": {
            "image/png": "[encoded data removed]",
            "text/plain": [
              "<Figure size 288x216 with 1 Axes>"
            ]
          },
          "metadata": {
            "needs_background": "light"
          }
        }
      ]
    },
    {
      "cell_type": "code",
      "metadata": {
        "id": "974V15MOWho_"
      },
      "source": [
        "# SET BETA\n",
        "beta = 0.5\n",
        "\n",
        "def genTaus(n):\n",
        "    taus = stats.expon(scale=2*beta).rvs(size=n).tolist()\n",
        "    #taus.append(numpy.random.exponential(scale=2*beta,size=))\n",
        "    # In the paper they start from tau_1,\n",
        "    # so I added a 0 to align the indices\n",
        "    taus.insert(0,0)\n",
        "    return taus"
      ],
      "id": "974V15MOWho_",
      "execution_count": null,
      "outputs": []
    },
    {
      "cell_type": "code",
      "metadata": {
        "id": "gxNF7VoFNVOd"
      },
      "source": [
        "### Same additive different multiplicative\n",
        "def growthFunctionM(m0,t,k):\n",
        "    # return m0*np.exp(Lambda*t)\n",
        "    return m0*(1+t)+t**k\n",
        "\n",
        "trials = 1000\n",
        "n= 100\n",
        "m0 = 1\n",
        "\n",
        "def distributionM(n,m0,trials,k):\n",
        "    masses = []\n",
        "    thetaList = genThetas(n*trials,u)\n",
        "    tauList = genTaus((n+1)*trials)\n",
        "    for j in range(trials):\n",
        "        mass = m0\n",
        "        theta = thetaList[j*n:j*n+n]\n",
        "        tau = tauList[j*(n+1):j*(n+1)+(n+1)]\n",
        "    #     print(theta)\n",
        "    #     print(tau)\n",
        "\n",
        "        for i in range(1,n):\n",
        "            mass = growthFunctionM(mass,tau[i],k)\n",
        "            mass = mass*theta[i]\n",
        "\n",
        "        mass = growthFunctionM(mass,tau[-1],k)\n",
        "\n",
        "        masses.append(mass)\n",
        "    return masses\n",
        "\n",
        "mass1 = distributionM(n,m0,trials,1)\n",
        "mass2 = distributionM(n,m0,trials,2)\n",
        "mass3 = distributionM(n,m0,trials,3)\n",
        "mass4 = distributionM(n,m0,trials,4)\n",
        "mass5 = distributionM(n,m0,trials,5)\n",
        "mass6 = distributionM(n,m0,trials,6)\n",
        "mass7 = distributionM(n,m0,trials,7)\n",
        "mass8 = distributionM(n,m0,trials,8)\n",
        "mass9 = distributionM(n,m0,trials,9)\n",
        "mass10 = distributionM(n,m0,trials,10)\n"
      ],
      "id": "gxNF7VoFNVOd",
      "execution_count": null,
      "outputs": []
    },
    {
      "cell_type": "code",
      "metadata": {
        "colab": {
          "base_uri": "https://localhost:8080/",
          "height": 266
        },
        "id": "w5HTEYE8NVgJ",
        "outputId": "8717dc61-484b-450e-c966-65f725b13d43"
      },
      "source": [
        "fig, ux = plt.subplots(figsize=(4,3), sharex=False)\n",
        "sns.kdeplot(np.log(mass1),label=r\"$f(t)=t$\")\n",
        "#sns.kdeplot(np.log(mass2),label=r\"$f(t)=1+t^2$\")\n",
        "sns.kdeplot(np.log(mass3),label=r\"$f(t)=t^3$\")\n",
        "#sns.kdeplot(np.log(mass4),label=r\"$f(t)=t^4$\")\n",
        "sns.kdeplot(np.log(mass5),label=r\"$f(t)=t^5$\")\n",
        "#sns.kdeplot(np.log(mass6),label=\"f=t^6\")\n",
        "sns.kdeplot(np.log(mass7),label=r\"$f(t)=t^7$\")\n",
        "#sns.kdeplot(np.log(mass8),label=\"f=t^8\")\n",
        "sns.kdeplot(np.log(mass9),label=r\"$f(t)=t^9$\")\n",
        "#sns.kdeplot(np.log(mass10),label=\"f=t^10\")\n",
        "plt.title(r\"$h(m,t)=m(1+t)+t^k$\")\n",
        "plt.xlabel(r\"$log(m)$\")\n",
        "plt.xlim(left=-20,right=30)\n",
        "plt.legend(loc='best')"
      ],
      "id": "w5HTEYE8NVgJ",
      "execution_count": null,
      "outputs": [
        {
          "output_type": "execute_result",
          "data": {
            "text/plain": [
              "<matplotlib.legend.Legend at 0x7f97ff2bc9d0>"
            ]
          },
          "metadata": {},
          "execution_count": 36
        },
        {
          "output_type": "display_data",
          "data": {
            "image/png": "[encoded data removed]",
            "text/plain": [
              "<Figure size 288x216 with 1 Axes>"
            ]
          },
          "metadata": {
            "needs_background": "light"
          }
        }
      ]
    },
    {
      "cell_type": "code",
      "metadata": {
        "id": "timely-injury"
      },
      "source": [
        "### Polynomials Overlayed\n",
        "\n",
        "def growthFunctionP(m0,t):\n",
        "    #return m0*np.exp(-t)\n",
        "    #return m0*(1+t) + t\n",
        "    return m0*np.exp(t)\n",
        "\n",
        "trials = 10000\n",
        "n= 1000\n",
        "m0 = 1\n",
        "\n",
        "def distribution(n,m0,trials,inv):\n",
        "    masses = []\n",
        "    thetaList = genThetas(n*trials,inv)\n",
        "    tauList = genTaus((n+1)*trials)\n",
        "    for j in range(trials):\n",
        "        mass = m0\n",
        "        theta = thetaList[j*n:j*n+n]\n",
        "        tau = tauList[j*(n+1):j*(n+1)+(n+1)]\n",
        "    #     print(theta)\n",
        "    #     print(tau)\n",
        "\n",
        "        for i in range(1,n):\n",
        "            mass = growthFunctionP(mass,tau[i])\n",
        "            mass = mass*theta[i]\n",
        "\n",
        "        mass = growthFunctionP(mass,tau[-1])\n",
        "\n",
        "        masses.append(mass)\n",
        "    return masses\n",
        "\n",
        "def logdistribution(n,m0,trials,inv):\n",
        "    masses = []\n",
        "    thetaList = genThetas(n*trials,inv)\n",
        "    tauList = genTaus((n+1)*trials)\n",
        "    for j in range(trials):\n",
        "        mass = np.log(m0)\n",
        "        theta = thetaList[j*n:j*n+n]\n",
        "        tau = tauList[j*(n+1):j*(n+1)+(n+1)]\n",
        "    #     print(theta)\n",
        "    #     print(tau)\n",
        "\n",
        "        for i in range(1,n):\n",
        "            mass = mass-tau[i]\n",
        "            mass = mass + np.log(theta[i])\n",
        "\n",
        "        mass = mass-tau[-1]\n",
        "\n",
        "        masses.append(mass)\n",
        "    return masses\n",
        "\n",
        "massu = logdistribution(n,m0,trials,uniform)\n",
        "mass0 = logdistribution(n,m0,trials,q0_inverse)\n",
        "mass1 = logdistribution(n,m0,trials,q1_inverse)\n",
        "mass2 = distribution(n,m0,trials,q2_inverse)\n",
        "\n",
        "# massu = logdistribution(n,m0,trials,uniform)\n",
        "# mass0 = logdistribution(n,m0,trials,q0_inverse)\n",
        "# mass1 = logdistribution(n,m0,trials,q1_inverse)\n",
        "# mass2 = logdistribution(n,m0,trials,q2_inverse)"
      ],
      "id": "timely-injury",
      "execution_count": null,
      "outputs": []
    },
    {
      "cell_type": "code",
      "metadata": {
        "colab": {
          "base_uri": "https://localhost:8080/",
          "height": 347
        },
        "id": "0o_sSSGJXSc9",
        "outputId": "5ec645ad-be77-494f-b420-855cb34dc0c4"
      },
      "source": [
        "fig, gx = plt.subplots(figsize=(4,3.5), sharex=False)\n",
        "# sns.kdeplot(massu,label=\"Uniform\")\n",
        "# sns.kdeplot(mass0,label=\"Triangle\")\n",
        "# sns.kdeplot(mass1,label=\"U shape\")\n",
        "# sns.kdeplot(mass2,label=\"W shape\")\n",
        "\n",
        "sns.kdeplot(np.log(massu),label=\"Uniform\")\n",
        "sns.kdeplot(np.log(mass0),label=\"Triangle\")\n",
        "sns.kdeplot(np.log(mass1),label=\"U shape\")\n",
        "sns.kdeplot(np.log(mass2),label=\"W shape\")\n",
        "\n",
        "plt.xlabel(r\"$log(m)$\")\n",
        "plt.xlim(left=-800,right=400)\n",
        "plt.ylim(bottom=0,top=0.01)\n",
        "plt.title(r\"$h(t)=me^t$\")\n",
        "plt.legend(loc='best')"
      ],
      "id": "0o_sSSGJXSc9",
      "execution_count": null,
      "outputs": [
        {
          "output_type": "stream",
          "name": "stderr",
          "text": [
            "/usr/local/lib/python3.7/dist-packages/ipykernel_launcher.py:10: RuntimeWarning: divide by zero encountered in log\n",
            "  # Remove the CWD from sys.path while we load stuff.\n"
          ]
        },
        {
          "output_type": "execute_result",
          "data": {
            "text/plain": [
              "<matplotlib.legend.Legend at 0x7f9ea35d32d0>"
            ]
          },
          "metadata": {},
          "execution_count": 9
        },
        {
          "output_type": "display_data",
          "data": {
            "image/png": "[encoded data removed]",
            "text/plain": [
              "<Figure size 288x252 with 1 Axes>"
            ]
          },
          "metadata": {
            "needs_background": "light"
          }
        }
      ]
    },
    {
      "cell_type": "code",
      "metadata": {
        "id": "QRlQUMuNoG0T"
      },
      "source": [
        "def g0(t):\n",
        "  return t\n",
        "def g1(t):\n",
        "  return -t\n",
        "def g4(t):\n",
        "    return np.power(t,2)\n",
        "def g5(t):\n",
        "    return np.log(1+t)\n",
        "def g6(t):\n",
        "    return np.log(1+np.log(1+t))"
      ],
      "id": "QRlQUMuNoG0T",
      "execution_count": null,
      "outputs": []
    },
    {
      "cell_type": "code",
      "metadata": {
        "id": "W3Xs3Mlvn4km"
      },
      "source": [
        "trials = 10000\n",
        "n= 1000\n",
        "m0 = 1\n",
        "thetaList = genThetas(n*trials,uniform)\n",
        "def logdist(n,m0,trials,func):\n",
        "    masses = []\n",
        "    tauList = genTaus((n+1)*trials)\n",
        "    for j in range(trials):\n",
        "        mass = 0\n",
        "        theta = thetaList[j*n:j*n+n]\n",
        "        tau = tauList[j*(n+1):j*(n+1)+(n+1)]\n",
        "\n",
        "        for i in range(1,n):\n",
        "            mass = mass+np.log(theta[i])+func(tau[i])\n",
        "\n",
        "        mass = m0 * mass-func(tau[-1])\n",
        "\n",
        "        masses.append(mass)\n",
        "    return masses\n",
        "logmass0 = logdist(n,m0,trials,g0)\n",
        "logmass1 = logdist(n,m0,trials,g1)\n",
        "logmass4 = logdist(n,m0,trials,g4)\n",
        "logmass5 = logdist(n,m0,trials,g5)\n",
        "logmass6 = logdist(n,m0,trials,g6)"
      ],
      "id": "W3Xs3Mlvn4km",
      "execution_count": null,
      "outputs": []
    },
    {
      "cell_type": "code",
      "metadata": {
        "id": "nWz3rgRiouNE"
      },
      "source": [
        "logmasses = [logmass0,logmass1,logmass4,logmass5,logmass6]\n",
        "for mass in logmasses:\n",
        "    for i in range(5):\n",
        "        mass.remove(min(mass))"
      ],
      "id": "nWz3rgRiouNE",
      "execution_count": null,
      "outputs": []
    },
    {
      "cell_type": "code",
      "metadata": {
        "colab": {
          "base_uri": "https://localhost:8080/",
          "height": 260
        },
        "id": "bT_0CstLoouq",
        "outputId": "1cadb2c8-b348-4959-eba7-fbff96356959"
      },
      "source": [
        "fig, gx = plt.subplots(figsize=(4,3), sharex=False)\n",
        "sns.kdeplot(logmass0,label=r'$me^t$')\n",
        "sns.kdeplot(logmass1,label=r'$me^{-t}$')\n",
        "sns.kdeplot(logmass4,label=r'$me^{t^2}$')\n",
        "sns.kdeplot(logmass5,label=r'$m(1+t)$')\n",
        "sns.kdeplot(logmass6,label=r'$m(1+ln(1+t))$')\n",
        "plt.title(r'$q(\\theta)\\sim Uniform$')\n",
        "plt.xlabel(\"log(m)\")\n",
        "plt.xlim(left=-2500,right=1550)\n",
        "plt.legend(bbox_to_anchor=(1.05, 1),prop={'size': 12})"
      ],
      "id": "bT_0CstLoouq",
      "execution_count": null,
      "outputs": [
        {
          "output_type": "execute_result",
          "data": {
            "text/plain": [
              "<matplotlib.legend.Legend at 0x7f2ad2e39b10>"
            ]
          },
          "metadata": {},
          "execution_count": 33
        },
        {
          "output_type": "display_data",
          "data": {
            "image/png": "[encoded data removed]",
            "text/plain": [
              "<Figure size 288x216 with 1 Axes>"
            ]
          },
          "metadata": {
            "needs_background": "light"
          }
        }
      ]
    }
  ]
}