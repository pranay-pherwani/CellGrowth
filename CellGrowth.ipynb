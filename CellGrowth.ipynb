{
  "nbformat": 4,
  "nbformat_minor": 5,
  "metadata": {
    "kernelspec": {
      "display_name": "Python 3",
      "language": "python",
      "name": "python3"
    },
    "language_info": {
      "codemirror_mode": {
        "name": "ipython",
        "version": 3
      },
      "file_extension": ".py",
      "mimetype": "text/x-python",
      "name": "python",
      "nbconvert_exporter": "python",
      "pygments_lexer": "ipython3",
      "version": "3.8.8"
    },
    "colab": {
      "name": "CellGrowth.ipynb",
      "provenance": [],
      "collapsed_sections": [],
      "include_colab_link": true
    }
  },
  "cells": [
    {
      "cell_type": "markdown",
      "metadata": {
        "id": "view-in-github",
        "colab_type": "text"
      },
      "source": [
        "<a href=\"https://colab.research.google.com/github/pranay-pherwani/CellGrowth/blob/main/CellGrowth.ipynb\" target=\"_parent\"><img src=\"https://colab.research.google.com/assets/colab-badge.svg\" alt=\"Open In Colab\"/></a>"
      ]
    },
    {
      "cell_type": "code",
      "metadata": {
        "id": "69cfcdea",
        "colab": {
          "base_uri": "https://localhost:8080/"
        },
        "outputId": "32c3b72d-6c2c-44c7-c57f-6ceee8003f7d"
      },
      "source": [
        "import numpy as np\n",
        "from scipy import integrate\n",
        "from mpl_toolkits import mplot3d\n",
        "import random\n",
        "import csv\n",
        "import pandas as pd\n",
        "import scipy.stats as stats\n",
        "import seaborn as sns \n",
        "import matplotlib.pyplot as plt\n",
        "import matplotlib.animation as animation\n",
        "import scipy.integrate as integrate\n",
        "from matplotlib.animation import FuncAnimation\n",
        "!pip install pynverse\n",
        "from pynverse import inversefunc\n",
        "%matplotlib notebook"
      ],
      "id": "69cfcdea",
      "execution_count": 1,
      "outputs": [
        {
          "output_type": "stream",
          "name": "stdout",
          "text": [
            "Collecting pynverse\n",
            "  Downloading pynverse-0.1.4.4.tar.gz (8.7 kB)\n",
            "Requirement already satisfied: scipy>=0.11 in /usr/local/lib/python3.7/dist-packages (from pynverse) (1.4.1)\n",
            "Requirement already satisfied: numpy>=1.6 in /usr/local/lib/python3.7/dist-packages (from pynverse) (1.19.5)\n",
            "Building wheels for collected packages: pynverse\n",
            "  Building wheel for pynverse (setup.py) ... \u001b[?25l\u001b[?25hdone\n",
            "  Created wheel for pynverse: filename=pynverse-0.1.4.4-py3-none-any.whl size=6363 sha256=ee875c8f8329ead46cb3f808db741f472d33bfabaf32e36180f6216c8cf6142c\n",
            "  Stored in directory: /root/.cache/pip/wheels/06/eb/74/006b76fdd8229ed3767fef546c825c2924f1def2d023929d9d\n",
            "Successfully built pynverse\n",
            "Installing collected packages: pynverse\n",
            "Successfully installed pynverse-0.1.4.4\n"
          ]
        }
      ]
    },
    {
      "cell_type": "code",
      "metadata": {
        "id": "ydIOHyOA2AnT"
      },
      "source": [
        "%matplotlib inline\n",
        "plt.close('all')"
      ],
      "id": "ydIOHyOA2AnT",
      "execution_count": 2,
      "outputs": []
    },
    {
      "cell_type": "code",
      "metadata": {
        "id": "20108a6a",
        "colab": {
          "base_uri": "https://localhost:8080/"
        },
        "outputId": "e5188fc5-4a13-47eb-d3ee-3fbbd54ba0a4"
      },
      "source": [
        "# SET BETA\n",
        "beta = 0.5\n",
        "Lambda = 1\n",
        "\n",
        "def thetaFunction(th):\n",
        "  if th<=1/2:\n",
        "    return 1/(np.sqrt(th))\n",
        "  else:\n",
        "    return thetaFunction(1-th)\n",
        "\n",
        "def CDF(x):\n",
        "  result = integrate.quad(lambda th: thetaFunction(th), 0, x)\n",
        "  return result[0]\n",
        "  \n",
        "\n",
        "def genThetas(n):\n",
        "    # SET 'a' HERE\n",
        "    a = 0\n",
        "    # # SET 'c' HERE\n",
        "    # c = 1/2\n",
        "    # thetas = stats.uniform(a,1-a).rvs(size=n).tolist()\n",
        "    # # In the paper they start from theta_1,\n",
        "    # # so I added a 0 to align the indices\n",
        "    # if c!=1:\n",
        "    #   for i in range(len(thetas)):\n",
        "    #     thetas[i] = inverseCDF(thetas[i],c)\n",
        "    uniform = True\n",
        "    thetas = stats.uniform(a,1-a).rvs(size=n).tolist()\n",
        "    if not uniform:\n",
        "      for i in range(len(thetas)):\n",
        "          #print(thetas[i])\n",
        "          thetas[i] = inverseCDF(thetas[i])\n",
        "          #print(thetas[i])\n",
        "          #print(\"___\")\n",
        "\n",
        "    thetas.insert(0,0)\n",
        "    \n",
        "    return thetas\n",
        "\n",
        "def inverseCDF(u):\n",
        "    # if p<1/2:\n",
        "    #   return (c - np.sqrt(c**2 - 8*c*p + 8*p))/(4*(c - 1))\n",
        "    # else:\n",
        "    #   return (-np.sqrt(c**2 + 8*c*(p - 1) - 8*p + 8) - 3*c + 4)/(4 - 4*c)\n",
        "    cdf = (lambda x: CDF(x))\n",
        "    invcdf = inversefunc(cdf)\n",
        "    result = invcdf(u)\n",
        "    if result<0:\n",
        "      result=-result\n",
        "    elif result>1:\n",
        "      result = 2 - result\n",
        "    \n",
        "    if abs(CDF(result)-u)>0.001:\n",
        "      print(\"Error calculating inverse\")\n",
        "\n",
        "    return result\n",
        "\n",
        "\n",
        "def genTaus(n):\n",
        "    taus = stats.expon(scale=2*beta).rvs(size=n).tolist()\n",
        "    #taus.append(numpy.random.exponential(scale=2*beta,size=))\n",
        "    # In the paper they start from tau_1,\n",
        "    # so I added a 0 to align the indices\n",
        "    taus.insert(0,0)\n",
        "    return taus\n",
        "\n",
        "def genGamma(n):\n",
        "  return np.random.gamma(n,scale=2*beta)\n",
        "\n",
        "def growthFunction(m0,t):\n",
        "    v = 1\n",
        "    #return (m0 + t**k)\n",
        "    k = 2\n",
        "    #return m0*np.exp(t)\n",
        "    #return m0+(t**k)\n",
        "    #return m0+np.log(t+1)\n",
        "    #return m0*np.exp(t)\n",
        "    #return m0*np.exp(t)+t\n",
        "    return m0*(1+t) + t**2\n",
        "    #return m0*np.exp(2*t)+t\n",
        "    #return m0 + np.exp(t) -1\n",
        "    \n",
        "\n",
        "\n",
        "print(CDF(2-1.4743416492424617))\n",
        "print(inverseCDF(0.55))\n",
        "    \n",
        "\n",
        "\n",
        "\n"
      ],
      "id": "20108a6a",
      "execution_count": 3,
      "outputs": [
        {
          "output_type": "stream",
          "name": "stdout",
          "text": [
            "1.4509778246794565\n",
            "-0.6180339603380443\n"
          ]
        },
        {
          "output_type": "stream",
          "name": "stderr",
          "text": [
            "/usr/local/lib/python3.7/dist-packages/ipykernel_launcher.py:7: RuntimeWarning: divide by zero encountered in double_scalars\n",
            "  import sys\n",
            "/usr/local/lib/python3.7/dist-packages/ipykernel_launcher.py:12: IntegrationWarning: Extremely bad integrand behavior occurs at some points of the\n",
            "  integration interval.\n",
            "  if sys.path[0] == '':\n",
            "/usr/local/lib/python3.7/dist-packages/pynverse/inverse.py:188: RuntimeWarning: Trouble calculating inverse for values: [0.55]\n",
            "  \"%s\" % str(yin[~resultsmask]), RuntimeWarning)\n",
            "/usr/local/lib/python3.7/dist-packages/ipykernel_launcher.py:7: RuntimeWarning: invalid value encountered in sqrt\n",
            "  import sys\n",
            "/usr/local/lib/python3.7/dist-packages/ipykernel_launcher.py:12: IntegrationWarning: The occurrence of roundoff error is detected, which prevents \n",
            "  the requested tolerance from being achieved.  The error may be \n",
            "  underestimated.\n",
            "  if sys.path[0] == '':\n",
            "/usr/local/lib/python3.7/dist-packages/pynverse/inverse.py:196: RuntimeWarning: Results obtained with less than 2 decimal digits of accuracy\n",
            "  % accuracy, RuntimeWarning)\n"
          ]
        }
      ]
    },
    {
      "cell_type": "code",
      "metadata": {
        "scrolled": false,
        "colab": {
          "base_uri": "https://localhost:8080/",
          "height": 506
        },
        "id": "881b417b",
        "outputId": "5cb4f406-9677-470e-c0a1-bb21b688f6e5"
      },
      "source": [
        "m0 = 1\n",
        "n = 10\n",
        "\n",
        "def simulate(n,m0):\n",
        "    times = []\n",
        "    times.append(0)\n",
        "    mass = []\n",
        "    mass.append(m0)\n",
        "    \n",
        "    theta = genThetas(n)\n",
        "    fig, dx = plt.subplots(figsize=(4,3), sharex=False)\n",
        "    plt.hist(theta, color = 'blue', edgecolor = 'black',bins = 500);\n",
        "    plt.title(\"Distribution of Thetas\")\n",
        "    # We use n+1 to add the extra f(tau)\n",
        "    tau = genTaus(n+1)\n",
        "#     print(theta)\n",
        "    # print(tau)\n",
        "    # print(genGamma(n))\n",
        "    T = []\n",
        "    for i in range(n+2):\n",
        "        T.append(sum(tau[:i+1]))\n",
        "    \n",
        "    for i in range(n):\n",
        "        t = np.linspace(T[i],T[i+1],num=50)\n",
        "        m_i = mass[-1]\n",
        "        \n",
        "        for j in range(1,len(t)):\n",
        "            mass.append(growthFunction(m_i,t[j]-t[0]))\n",
        "            times.append(t[j])\n",
        "        mass[-1] = mass[-1]*theta[i+1]\n",
        "\n",
        "    # Add f(tau)\n",
        "    t = np.linspace(T[-2],T[-1],num=50)\n",
        "    m_i = mass[-1]\n",
        "        \n",
        "    for j in range(1,len(t)):\n",
        "        mass.append(growthFunction(m_i,t[j]-t[0]))\n",
        "        times.append(t[j])\n",
        "        \n",
        "    return (times,mass)\n",
        "\n",
        "times,mass = simulate(n,m0)\n",
        "\n",
        "fig, ax = plt.subplots(figsize=(4,3), sharex=False)\n",
        "ax.plot(times,mass)\n",
        "print(\"Final mass:\")\n",
        "print(mass[-1])\n",
        "ax.set_xlabel('Time')\n",
        "plt.title(r\"$h(m,t)=m(1+t)+t^2$\")\n",
        "ax.set_ylabel('Mass')"
      ],
      "id": "881b417b",
      "execution_count": 4,
      "outputs": [
        {
          "output_type": "stream",
          "name": "stdout",
          "text": [
            "Final mass:\n",
            "0.9425278901648028\n"
          ]
        },
        {
          "output_type": "execute_result",
          "data": {
            "text/plain": [
              "Text(0, 0.5, 'Mass')"
            ]
          },
          "metadata": {},
          "execution_count": 4
        },
        {
          "output_type": "display_data",
          "data": {
            "image/png": "[encoded data removed]",
            "text/plain": [
              "<Figure size 288x216 with 1 Axes>"
            ]
          },
          "metadata": {
            "needs_background": "light"
          }
        },
        {
          "output_type": "display_data",
          "data": {
            "image/png": "[encoded data removed]",
            "text/plain": [
              "<Figure size 288x216 with 1 Axes>"
            ]
          },
          "metadata": {
            "needs_background": "light"
          }
        }
      ]
    },
    {
      "cell_type": "code",
      "metadata": {
        "scrolled": false,
        "id": "767b7e76",
        "colab": {
          "base_uri": "https://localhost:8080/",
          "height": 421
        },
        "outputId": "9fa464c7-4423-487e-f1c0-d2e5c8af25e7"
      },
      "source": [
        "trials = 1000\n",
        "n= 1000\n",
        "m0 = 1\n",
        "\n",
        "def distribution(n,m0,trials):\n",
        "    masses = []\n",
        "    thetaList = genThetas(n*trials)\n",
        "    tauList = genTaus((n+1)*trials)\n",
        "    for j in range(trials):\n",
        "        mass = m0\n",
        "        theta = thetaList[j*n:j*n+n]\n",
        "        tau = tauList[j*(n+1):j*(n+1)+(n+1)]\n",
        "    #     print(theta)\n",
        "    #     print(tau)\n",
        "\n",
        "        for i in range(1,n):\n",
        "            mass = growthFunction(mass,tau[i])\n",
        "            mass = mass*theta[i]\n",
        "\n",
        "        mass = growthFunction(mass,tau[-1])\n",
        "\n",
        "        masses.append(mass)\n",
        "    return masses\n",
        "\n",
        "def distributionShortcut(n,m0,trials):\n",
        "    masses = []\n",
        "    for j in range(trials):\n",
        "        mass = m0\n",
        "        theta = genThetas(n)\n",
        "        T_n = genGamma(n)\n",
        "        mass = mass*np.exp(Lambda*T_n)\n",
        "\n",
        "        for i in range(1,n):\n",
        "            mass = mass*theta[i]\n",
        "\n",
        "        masses.append(mass)\n",
        "    #print(masses)\n",
        "    return masses\n",
        "        \n",
        "mass = distribution(n,m0,trials)\n",
        "fig, bx = plt.subplots(figsize=(8,6), sharex=False)\n",
        "plt.hist(mass, color = 'blue', edgecolor = 'black',bins = 500);\n",
        "plt.title(\"m0*e^(t)+t\")\n",
        "plt.xlabel(\"m\")\n",
        "plt.ylabel(\"density\")"
      ],
      "id": "767b7e76",
      "execution_count": 5,
      "outputs": [
        {
          "output_type": "execute_result",
          "data": {
            "text/plain": [
              "Text(0, 0.5, 'density')"
            ]
          },
          "metadata": {},
          "execution_count": 5
        },
        {
          "output_type": "display_data",
          "data": {
            "image/png": "[encoded data removed]",
            "text/plain": [
              "<Figure size 576x432 with 1 Axes>"
            ]
          },
          "metadata": {
            "needs_background": "light"
          }
        }
      ]
    },
    {
      "cell_type": "code",
      "metadata": {
        "colab": {
          "base_uri": "https://localhost:8080/",
          "height": 391
        },
        "id": "C4Kkd40USD2o",
        "outputId": "9dddf531-be1a-4bcb-a682-04670c04497e"
      },
      "source": [
        "fig, fx = plt.subplots(figsize=(8,6), sharex=False)\n",
        "sns.kdeplot(mass)\n"
      ],
      "id": "C4Kkd40USD2o",
      "execution_count": 6,
      "outputs": [
        {
          "output_type": "execute_result",
          "data": {
            "text/plain": [
              "<matplotlib.axes._subplots.AxesSubplot at 0x7f6b3693e890>"
            ]
          },
          "metadata": {},
          "execution_count": 6
        },
        {
          "output_type": "display_data",
          "data": {
            "image/png": "[encoded data removed]",
            "text/plain": [
              "<Figure size 576x432 with 1 Axes>"
            ]
          },
          "metadata": {
            "needs_background": "light"
          }
        }
      ]
    },
    {
      "cell_type": "code",
      "metadata": {
        "colab": {
          "base_uri": "https://localhost:8080/"
        },
        "id": "IdBNOoigOYzD",
        "outputId": "89444a2f-ef90-4fb6-a212-6c3cb0a30a35"
      },
      "source": [
        "stats.describe(mass)"
      ],
      "id": "IdBNOoigOYzD",
      "execution_count": 7,
      "outputs": [
        {
          "output_type": "execute_result",
          "data": {
            "text/plain": [
              "DescribeResult(nobs=1000, minmax=(0.012087532830808125, 5706.944991287167), mean=38.04069447717798, variance=46438.56130321517, skewness=20.15750545706981, kurtosis=492.6733374504755)"
            ]
          },
          "metadata": {},
          "execution_count": 7
        }
      ]
    },
    {
      "cell_type": "code",
      "metadata": {
        "scrolled": false,
        "colab": {
          "base_uri": "https://localhost:8080/",
          "height": 374
        },
        "id": "544501ba",
        "outputId": "49751ac1-8ed4-4feb-a13d-6663a2852f9d"
      },
      "source": [
        "fig, cx = plt.subplots(figsize=(8,6), sharex=False)\n",
        "plt.hist([x for x in mass if 0 <= x <= 10 ], bins=500);"
      ],
      "id": "544501ba",
      "execution_count": 8,
      "outputs": [
        {
          "output_type": "display_data",
          "data": {
            "image/png": "[encoded data removed]",
            "text/plain": [
              "<Figure size 576x432 with 1 Axes>"
            ]
          },
          "metadata": {
            "needs_background": "light"
          }
        }
      ]
    },
    {
      "cell_type": "code",
      "metadata": {
        "id": "abe729ec",
        "colab": {
          "base_uri": "https://localhost:8080/",
          "height": 312
        },
        "outputId": "b229b3d1-68df-450e-f2ad-85fcdc60afdf"
      },
      "source": [
        "plt.hist(np.log(mass), color = 'blue', edgecolor = 'black',bins = 500);\n",
        "plt.ylabel(\"density\")\n",
        "plt.title(\"m0*(1+t) + t\")\n",
        "plt.xlabel(\"log(mass)\")"
      ],
      "id": "abe729ec",
      "execution_count": 9,
      "outputs": [
        {
          "output_type": "execute_result",
          "data": {
            "text/plain": [
              "Text(0.5, 0, 'log(mass)')"
            ]
          },
          "metadata": {},
          "execution_count": 9
        },
        {
          "output_type": "display_data",
          "data": {
            "image/png": "[encoded data removed]",
            "text/plain": [
              "<Figure size 432x288 with 1 Axes>"
            ]
          },
          "metadata": {
            "needs_background": "light"
          }
        }
      ]
    },
    {
      "cell_type": "code",
      "metadata": {
        "colab": {
          "base_uri": "https://localhost:8080/"
        },
        "id": "AXDLhxBbw63w",
        "outputId": "121d6f5c-188d-43a9-c3e8-431d3f49a4e6"
      },
      "source": [
        "stats.describe(np.log(mass))"
      ],
      "id": "AXDLhxBbw63w",
      "execution_count": 10,
      "outputs": [
        {
          "output_type": "execute_result",
          "data": {
            "text/plain": [
              "DescribeResult(nobs=1000, minmax=(-4.415580702110601, 8.64943913167602), mean=1.912647881304254, variance=3.231067876362308, skewness=0.0038032716568781157, kurtosis=0.13167967823392468)"
            ]
          },
          "metadata": {},
          "execution_count": 10
        }
      ]
    },
    {
      "cell_type": "code",
      "metadata": {
        "id": "kJ9whxL3fhr5"
      },
      "source": [
        "### Sines Overlayed\n",
        "\n",
        "def growthFunctionP(m0,t,k):\n",
        "    #return m0+t**k\n",
        "    if k==-1:\n",
        "      return m0+random.uniform(0,2)\n",
        "    else:\n",
        "      return m0 + 1 + np.sin(k*t-np.pi/2)\n",
        "\n",
        "trials = 1000\n",
        "n= 100\n",
        "m0 = 1\n",
        "\n",
        "def distribution(n,m0,trials,k):\n",
        "    masses = []\n",
        "    thetaList = genThetas(n*trials)\n",
        "    tauList = genTaus((n+1)*trials)\n",
        "    for j in range(trials):\n",
        "        mass = m0\n",
        "        theta = thetaList[j*n:j*n+n]\n",
        "        tau = tauList[j*(n+1):j*(n+1)+(n+1)]\n",
        "    #     print(theta)\n",
        "    #     print(tau)\n",
        "\n",
        "        for i in range(1,n):\n",
        "            mass = growthFunctionP(mass,tau[i],k)\n",
        "            mass = mass*theta[i]\n",
        "\n",
        "        mass = growthFunctionP(mass,tau[-1],k)\n",
        "\n",
        "        masses.append(mass)\n",
        "    return masses\n",
        "\n",
        "mass1 = distribution(n,m0,trials,1)\n",
        "mass2 = distribution(n,m0,trials,2)\n",
        "mass3 = distribution(n,m0,trials,3)\n",
        "mass1_2 = distribution(n,m0,trials,50)\n",
        "mass1_4 = distribution(n,m0,trials,100)\n",
        "mass5 = distribution(n,m0,trials,-1)\n",
        "\n",
        "\n"
      ],
      "id": "kJ9whxL3fhr5",
      "execution_count": 11,
      "outputs": []
    },
    {
      "cell_type": "code",
      "metadata": {
        "colab": {
          "base_uri": "https://localhost:8080/",
          "height": 262
        },
        "id": "h3-Te_umg4aA",
        "outputId": "4b5616f3-8a6b-474d-a78b-1570a039e842"
      },
      "source": [
        "fig, gx = plt.subplots(figsize=(4,3), sharex=False)\n",
        "sns.kdeplot(mass1,label=r\"$k=1$\")\n",
        "sns.kdeplot(mass2,label=r\"$k=2$\")\n",
        "sns.kdeplot(mass3,label=r\"$k=3$\")\n",
        "sns.kdeplot(mass1_2,label=r\"$k=1/2$\")\n",
        "sns.kdeplot(mass1_4,label=r\"$k=1/4$\")\n",
        "#sns.kdeplot(mass5,label=\"random growth\",color=\"black\")\n",
        "plt.title(r\"$h(m,t)=m+t^k$\")\n",
        "plt.xlabel(r\"$m$\")\n",
        "plt.xlim(left=0,right=20)\n",
        "plt.legend(loc='best')"
      ],
      "id": "h3-Te_umg4aA",
      "execution_count": null,
      "outputs": [
        {
          "output_type": "execute_result",
          "data": {
            "text/plain": [
              "<matplotlib.legend.Legend at 0x7fafee805050>"
            ]
          },
          "metadata": {},
          "execution_count": 6
        },
        {
          "output_type": "display_data",
          "data": {
            "image/png": "[encoded data removed]",
            "text/plain": [
              "<Figure size 288x216 with 1 Axes>"
            ]
          },
          "metadata": {
            "needs_background": "light"
          }
        }
      ]
    },
    {
      "cell_type": "code",
      "metadata": {
        "colab": {
          "base_uri": "https://localhost:8080/"
        },
        "id": "8Pwcev2hxikv",
        "outputId": "7224f1ee-3550-4f57-af1b-902cf1b4ec0e"
      },
      "source": [
        "print(\"m+t\")\n",
        "print(stats.describe(mass1))\n",
        "print(\"m+t^2\")\n",
        "print(stats.describe(mass2))\n",
        "print(\"m+t^3\")\n",
        "print(stats.describe(mass3))\n",
        "print(\"m+t^(1/2)\")\n",
        "print(stats.describe(mass1_2))\n",
        "print(\"m+t^(1/4)\")\n",
        "print(stats.describe(mass1_4))"
      ],
      "id": "8Pwcev2hxikv",
      "execution_count": null,
      "outputs": [
        {
          "output_type": "stream",
          "name": "stdout",
          "text": [
            "m+t\n",
            "DescribeResult(nobs=10000, minmax=(0.006747007191544756, 12.129804737025502), mean=1.98878260733704, variance=1.9899557802869177, skewness=1.37193959196971, kurtosis=2.7816045778011924)\n",
            "m+t^2\n",
            "DescribeResult(nobs=10000, minmax=(0.0017682526964258216, 72.77536596820757), mean=4.017145336647775, variance=31.136799378963975, skewness=3.989201450668703, kurtosis=24.97617255951767)\n",
            "m+t^3\n",
            "DescribeResult(nobs=10000, minmax=(0.0005453510219392936, 1102.83560043092), mean=12.20853999997659, variance=1016.5772985463447, skewness=10.625255413126522, kurtosis=214.48823018103138)\n",
            "m+t^(1/2)\n",
            "DescribeResult(nobs=10000, minmax=(0.05349952741687291, 5.837777265691571), mean=1.776191809596523, variance=0.7033243994816499, skewness=0.7980012454135189, kurtosis=0.7999003918672711)\n",
            "m+t^(1/4)\n",
            "DescribeResult(nobs=10000, minmax=(0.20005164704935025, 6.3176269533498655), mean=1.8067135714614655, variance=0.49792456946035957, skewness=0.9026633910077101, kurtosis=1.3494468288290653)\n"
          ]
        }
      ]
    },
    {
      "cell_type": "code",
      "metadata": {
        "id": "_45Y9gytKUJd"
      },
      "source": [
        "### Same multiplicative different additive\n",
        "\n",
        "### Polynomials Overlayed\n",
        "\n",
        "def growthFunctionM(m0,t,k):\n",
        "    return m0*(1+t)+t**k\n",
        "    #return m0*((1+t)**(k-1))+((1+t**3))\n",
        "\n",
        "trials = 1000\n",
        "n= 100\n",
        "m0 = 1\n",
        "\n",
        "def distributionM(n,m0,trials,k):\n",
        "    masses = []\n",
        "    thetaList = genThetas(n*trials)\n",
        "    tauList = genTaus((n+1)*trials)\n",
        "    for j in range(trials):\n",
        "        mass = m0\n",
        "        theta = thetaList[j*n:j*n+n]\n",
        "        tau = tauList[j*(n+1):j*(n+1)+(n+1)]\n",
        "    #     print(theta)\n",
        "    #     print(tau)\n",
        "\n",
        "        for i in range(1,n):\n",
        "            mass = growthFunctionM(mass,tau[i],k)\n",
        "            mass = mass*theta[i]\n",
        "\n",
        "        mass = growthFunctionM(mass,tau[-1],k)\n",
        "\n",
        "        masses.append(mass)\n",
        "    return masses\n",
        "\n",
        "mass1 = distributionM(n,m0,trials,1)\n",
        "mass2 = distributionM(n,m0,trials,2)\n",
        "mass3 = distributionM(n,m0,trials,3)\n",
        "mass4 = distributionM(n,m0,trials,1/4)\n",
        "mass5 = distributionM(n,m0,trials,5)\n",
        "mass6 = distributionM(n,m0,trials,6)\n",
        "mass7 = distributionM(n,m0,trials,7)\n",
        "mass8 = distributionM(n,m0,trials,8)\n",
        "mass9 = distributionM(n,m0,trials,9)\n",
        "mass10 = distributionM(n,m0,trials,10)\n"
      ],
      "id": "_45Y9gytKUJd",
      "execution_count": null,
      "outputs": []
    },
    {
      "cell_type": "code",
      "metadata": {
        "colab": {
          "base_uri": "https://localhost:8080/",
          "height": 694
        },
        "id": "uM3Vy0kXK3NV",
        "outputId": "55fb68c6-3dc9-4682-e1c1-92da6e4b5ad0"
      },
      "source": [
        "fig, rx = plt.subplots(figsize=(4,3), sharex=False)\n",
        "def normalized(mass):\n",
        "  mu = 1\n",
        "  output = []\n",
        "  for i in mass:\n",
        "    m = (np.log(i)-mu*n)/np.sqrt(n)\n",
        "    output.append(m)\n",
        "  return output\n",
        "  \n",
        "sns.kdeplot(np.log(mass1),label=r\"$f(t)=t$\")\n",
        "#sns.kdeplot(np.log(mass2),label=\"f=t^(2)\")\n",
        "sns.kdeplot(np.log(mass3),label=r\"$f(t)=t^3$\")\n",
        "#sns.kdeplot(np.log(mass4),label=\"f=t^(1/4)\")\n",
        "sns.kdeplot(np.log(mass5),label=r\"$f(t)=t^5$\")\n",
        "#sns.kdeplot(np.log(mass6),label=\"f=t^6\")\n",
        "sns.kdeplot(np.log(mass7),label=r\"$f(t)=t^7$\")\n",
        "#sns.kdeplot(np.log(mass8),label=\"f=t^8\")\n",
        "sns.kdeplot(np.log(mass9),label=r\"$f(t)=t^9$\")\n",
        "#sns.kdeplot(np.log(mass10),label=\"f=t^10\")\n",
        "plt.xlabel(r\"$log(m)$\")\n",
        "plt.title(r\"$h(m,t)=m(1+t)+t^k$\")\n",
        "plt.xlim(left=-20,right=30)\n",
        "plt.legend(loc='best')\n",
        "\n",
        "fig, xx = plt.subplots(figsize=(8,6), sharex=False)\n",
        "\n",
        "print(normalized(mass1))\n",
        "\n",
        "sns.kdeplot(mass1,label=\"Without\")\n",
        "sns.kdeplot(mass2,label=\"With\")\n",
        "# sns.kdeplot(normalized(mass3),label=\"f=t^3\")\n",
        "# #sns.kdeplot(normalized(mass4),label=\"f=t^(1/4)\")\n",
        "# sns.kdeplot(normalized(mass5),label=\"f=t^5\")\n",
        "# #sns.kdeplot(normalized(mass6),label=\"f=t^6\")\n",
        "# sns.kdeplot(normalized(mass7),label=\"f=t^7\")\n",
        "# #sns.kdeplot(normalized(mass8),label=\"f=t^8\")\n",
        "# sns.kdeplot(normalized(mass9),label=\"f=t^9\")\n",
        "# #sns.kdeplot(normalized(mass10),label=\"f=t^10\")\n",
        "plt.title(r\"$h(m,t)=m(1+t)+t^k$\")\n",
        "plt.xlabel(\"Normalized log(m)\")\n",
        "plt.xlim(left=0,right=300)\n",
        "plt.legend(loc='best')"
      ],
      "id": "uM3Vy0kXK3NV",
      "execution_count": null,
      "outputs": [
        {
          "output_type": "stream",
          "name": "stdout",
          "text": [
            "[-9.733661372310305, -9.855242636858657, -9.888008751987213, -9.785082840999785, -10.035624258083999, -9.934282229102468, -10.03714545776744, -9.965820068043335, -9.74505300245161, -10.132933459951925, -9.924759936213807, -9.726798081356266, -9.805583197230257, -10.012584752635524, -9.814333618369023, -9.884638970787533, -9.834215295891081, -9.970518749604153, -9.87525420678286, -9.747866639145645, -9.659191060311997, -9.731083880967544, -9.771472230366715, -9.76064360538289, -9.846495858557166, -9.704558501469437, -9.648683974039473, -9.920863858242686, -9.631399770379877, -9.898509459694738, -9.823191958530064, -9.920804900634597, -10.012442142489418, -9.887702496822937, -9.855476894676709, -9.880914532064024, -10.064866742059861, -9.919351016991296, -9.682447774083261, -9.636871957486665, -9.833963607740808, -9.75066286829742, -9.87950038592891, -9.727054178264021, -9.68542345478093, -9.882892803441, -9.776549941328584, -9.805486818259679, -9.92737029760613, -10.070803430854792, -9.849001612703038, -9.877065930208255, -9.449542386888597, -9.825043839615144, -9.937504302834537, -9.734332637765128, -9.776762093437537, -10.027355083811566, -9.919984130275674, -9.849021178680903, -9.874637836995506, -9.696264834637395, -9.922898392355764, -10.041968543607315, -9.793768402301987, -9.954679960375312, -9.978140260971504, -9.778810737473382, -9.983640600812345, -9.814127311372436, -9.8172862914219, -9.922849977983963, -9.904483018202173, -9.90350503349512, -10.037913371774065, -9.685259044022903, -9.905764706657859, -9.63852060065924, -9.440696727185658, -9.844770938088743, -9.873885995820714, -10.108588441040176, -10.000012394641963, -10.088732098792349, -9.882940560016074, -9.892694330442438, -10.001580892219774, -9.686957975257108, -10.022621501003425, -9.887077155176149, -9.993974048541999, -9.92841427411857, -9.219675550912257, -9.729610089688515, -10.006604820654186, -10.09019220058503, -9.805661243243891, -9.837692609308704, -9.75818672218573, -10.043780710127013, -9.708817193529764, -10.072885700860136, -9.922184311223079, -9.893792803120395, -9.92322517929076, -9.579794382990277, -9.719683020109565, -9.86590321765144, -9.865669039349903, -9.672389606661678, -9.598987683950543, -9.667353195350001, -10.048067274179033, -9.989313361453092, -9.840462912582112, -9.845889618197315, -9.588431956806016, -9.942538884227186, -9.239342438998005, -9.77468944748096, -9.914005556285055, -9.800339854489817, -9.776615433429653, -9.813647806309563, -9.880684826386005, -9.825198418087782, -9.90114834789446, -9.84535947043394, -9.806187133065265, -9.780410830645115, -9.61317606582544, -9.605178439388236, -10.044185856490124, -9.830490239268723, -9.865331769412203, -9.750112563210614, -9.870784037099137, -9.926981760954863, -9.493912276018877, -9.515414662654926, -9.894048122871407, -10.014750203523153, -9.811636769432676, -9.678616335811848, -9.844937425932399, -9.796908065819226, -9.63125290033725, -10.13409007547537, -9.961997420698264, -9.960012162140057, -9.795251749985965, -9.99763908154012, -9.892475292500007, -9.66555506914303, -9.972437542379605, -9.998145344747302, -10.020880976305062, -9.81166694194603, -9.466736581705543, -10.022289594081846, -9.971123269871482, -9.84692704258961, -9.995951922861144, -9.54111966549572, -9.667221889178172, -9.760366178276486, -9.9502488825356, -10.041016761639707, -9.87583823137178, -9.861960489204264, -9.522699581047263, -9.757043668253129, -9.90952501394447, -9.649882772186997, -10.247711798274207, -9.716922942313186, -9.830757643586784, -9.788137135064229, -9.811467242305444, -9.874252768190027, -10.048386897582505, -9.861405885183638, -9.876789258919915, -9.938513165786322, -10.093799598043015, -9.787626216875617, -9.894093184179294, -9.808279826180755, -9.96225492776723, -9.757623613505862, -9.797898805807382, -9.940404058456588, -9.814453040553078, -9.832467679779473, -9.518808116319441, -9.75202721424511, -9.819745532875785, -9.728454440098936, -9.80089591327209, -9.800329165906653, -9.613070851689525, -9.83163376017948, -9.927332211171485, -9.699127188707243, -9.92679640967844, -9.988620497283963, -9.782849868590754, -9.62161517478628, -9.888067209919267, -9.88518403413932, -9.775385172809195, -9.779172361840143, -9.660200238713461, -9.630728421783008, -10.013462858744848, -9.972497095544107, -9.974854619947951, -9.740434775547916, -9.907007895040334, -9.893365558547396, -9.901429598892348, -9.845470414999289, -9.90397385125892, -9.969570748292645, -9.781243109495183, -9.931658026892283, -9.780852534996516, -9.886854371359817, -9.617822000969987, -9.828519093359855, -9.99142510160922, -9.853969528430039, -9.8074029687888, -9.820654174148784, -9.856895265417116, -9.876625868044776, -9.525290218534078, -9.749566115316664, -9.899142051761084, -9.637393432896227, -9.75239079604104, -9.750065594512888, -9.850592244743995, -10.126818264987076, -9.67957227110849, -9.725694616027926, -9.889603402426328, -9.902288002624955, -9.776675898550462, -9.947030595600978, -9.838643918472114, -9.981683494483743, -9.886505381551157, -9.83425364807021, -9.648695502683058, -9.737053811745739, -10.00249610721274, -9.665960357476079, -9.805811615986382, -9.73200937658809, -9.872020995555065, -9.633870427686698, -9.904825136319378, -9.850107918818122, -9.693614646544074, -9.824746582837694, -9.78609053951663, -9.892355571049569, -9.88804576966104, -9.583350692052631, -9.98131814856376, -9.80819340552178, -9.889798346405515, -9.880546935894676, -9.784505778070413, -10.080279924656235, -9.729747718287774, -9.672609639814471, -9.842296091207341, -9.795907798331337, -9.867258076116316, -9.999077065166732, -9.82900683970881, -9.924132844978352, -9.834267889621298, -9.795236465813822, -9.85848342391805, -9.909135013651143, -9.89409246288238, -10.094779862165272, -9.98035071006559, -9.991038719729247, -10.016172066847618, -9.8534365433616, -9.834144044767164, -9.87636514714878, -9.915062900540187, -9.61847604678708, -9.898004966026347, -9.777899228103003, -9.971711700682798, -9.852055825699527, -9.949291367898262, -9.827121051432325, -9.721510848775173, -9.870802588510063, -9.881572509257776, -9.944758612272285, -9.940317366048841, -9.66844581424375, -9.911627402151264, -9.791708156927571, -9.840977122210006, -9.673321885053623, -9.847083850329705, -9.91875343048884, -9.904679539271648, -10.023495491388863, -9.792756829309734, -9.86518308638832, -9.75251690485582, -9.843232332576825, -10.144481988288872, -9.903636690411707, -9.791622088423923, -9.720900152031028, -9.644550712723223, -9.979611467343751, -10.061394603965997, -9.97736422000533, -9.881129545814463, -9.642131331370955, -9.520309990503678, -9.902273393373275, -9.617984680797887, -9.75591752255681, -9.827633967601992, -9.876778879692335, -9.88711271764095, -9.98740265881488, -9.768493192177477, -9.72387197792998, -10.016588387364235, -9.779375561715732, -9.590875105080729, -9.622965564078333, -9.616837884213838, -9.968366720066658, -10.018422220484714, -9.692677152488605, -9.889149915750732, -10.114626727846929, -9.74008892891197, -10.047825577165764, -9.982532237745172, -9.935243439919537, -10.004213251373995, -10.006894511068122, -9.864020890750055, -9.875502804892665, -9.936692640794401, -9.86926429927921, -9.711514724028966, -9.994174953518105, -9.9138957426242, -9.834348954315725, -9.789521801527574, -9.533774503402443, -9.821111996050815, -9.833215264081328, -9.848924178375757, -9.653753559282865, -10.063974457745053, -9.95285372276776, -9.873969702635797, -9.826292803427004, -9.80176585055475, -9.737165770250012, -9.85102334714147, -9.724151329631713, -9.964567555512955, -9.865759557453762, -9.87146591265742, -9.67921142051755, -9.940155460505348, -9.73729271049864, -9.85091339305551, -9.863341950847698, -9.860686824445077, -10.012031302409616, -9.873952714362058, -9.806691661351852, -9.77645138206322, -10.046649876621332, -9.770192788729542, -10.021160969709106, -9.5632324501663, -9.841726734706084, -9.8613934117516, -10.135373517700957, -9.961436051983046, -9.940658855302205, -9.979201563660062, -9.566784247039854, -9.84604419098518, -9.825233273114636, -9.822300471033877, -9.96504322133271, -9.631221127956692, -9.96496038093589, -9.910503703246894, -9.938361567519317, -9.700926535049124, -9.737708602490253, -9.765901859942044, -9.86666327528778, -9.647630344216246, -9.993386997715316, -9.914838776257579, -9.935849474904675, -9.723286386384961, -9.920409914196636, -10.017239472725889, -9.786552678493162, -9.869997667061671, -9.913687859661923, -9.965988791801216, -9.68395946824463, -9.566136971305117, -9.634771770381942, -9.911319946072712, -9.769293540874918, -9.584929693234645, -9.862189773752755, -9.970515844758205, -9.995559734911785, -9.914538075570748, -9.839642430156353, -9.942181600594742, -9.736578518518103, -9.702183669007727, -9.938621857302834, -9.941004924629578, -9.735003918113723, -10.057198928002004, -9.850341815600503, -9.897154780191247, -9.911459357137751, -9.929927209255812, -9.972873019287515, -9.914801167878029, -9.945594088202748, -10.075084277000984, -9.904874419627637, -9.715747070945538, -9.987787579594746, -9.865352664170702, -10.024252586176818, -9.467804548561435, -9.670031060641389, -9.801127597250746, -9.90700940078852, -9.961915747973698, -9.844959937674542, -9.846176017594145, -9.896242300903701, -9.994381679692168, -9.767096791794103, -9.908921784521322, -9.539674147646897, -10.059404545452683, -9.95904074507838, -10.125328007904729, -9.66640462611403, -9.919753729852925, -9.899408787929818, -9.88147586190127, -9.93513367544161, -9.810796045312724, -9.87251428232295, -9.859879263910209, -9.829928856995277, -9.888105862220225, -9.868054883985401, -9.952064656122637, -9.927401297143732, -10.050003924549847, -9.951425584052997, -9.962763519152672, -9.942975069737216, -9.81812627454838, -10.127261603075553, -9.996232830220453, -9.833629368638526, -9.86944680841405, -9.821061848659518, -9.807910223401592, -10.157319478226125, -9.866086657977093, -9.892103493669167, -10.017610892208292, -9.468638226677253, -9.952806445203212, -9.622314499684219, -9.894780434413937, -9.997035691701894, -9.820339260896455, -9.845125979271792, -9.7781361326903, -10.140821484151548, -9.8867626254518, -9.906156478680582, -9.96762679802168, -9.828395380791557, -9.9613387015158, -9.462479880274374, -10.049736671298179, -9.976048295727617, -10.130427496540703, -9.867999391122247, -9.808295971269782, -9.797954870367995, -10.091516892233786, -9.931374317253193, -9.779423704553361, -9.821174812901814, -9.881973040034124, -9.617722110090211, -9.612976962830668, -9.788867888242276, -9.852901931944835, -10.061446694661246, -9.567232215087953, -9.827849063364775, -9.745706653102996, -9.81000715440921, -9.80046176988883, -10.035194033058257, -9.535533186808346, -9.585457512874555, -9.565154336043383, -10.005180140033248, -9.808075257207879, -9.829302151350038, -9.837675128492204, -9.946830994652467, -9.826243549451183, -9.887929462851853, -9.251675713593206, -9.8643984862205, -9.840832456945602, -10.298012479903392, -9.816814957774765, -9.796099647643985, -9.918037761935944, -9.752062973983284, -9.922544254151795, -10.00913867194665, -9.718328474271347, -9.805656592630312, -10.00757960425959, -9.752582747112331, -9.723606357790569, -9.743108925847242, -9.754045177777893, -10.111711622247839, -9.581544340440903, -9.777805959455915, -9.867538973564333, -9.643302187579565, -9.85425924761031, -9.741380414613753, -9.611547036445732, -9.942497841203402, -9.715555139821202, -10.044106335866996, -9.84409752719662, -9.887176303537341, -10.165072048440916, -9.375566262667792, -10.020333246318497, -9.535186065672459, -9.977051386952914, -9.614586394363027, -9.46344681243063, -9.885709257389248, -9.670491908410064, -9.961908302893193, -9.784255105312397, -9.495429210044746, -9.629783135729603, -9.79373403635048, -9.844838527884807, -9.701161946643179, -9.934099442141042, -9.993081165618797, -9.877520186601512, -9.861585840465791, -10.004325010556752, -10.009862663289338, -10.156300787986334, -9.971154756248225, -9.828086503449619, -9.798087896330689, -9.841790905708049, -9.656666787842285, -9.659229301956756, -9.747915818760552, -9.686437288439613, -9.924972912650341, -9.792400361520075, -9.82696177193439, -9.898692675580884, -9.90180633432789, -9.708090529334013, -9.817960867752015, -9.439001579655047, -10.055937349974732, -9.900514274618718, -9.727764069400493, -9.768953201204658, -10.030777585352434, -9.815132957108421, -9.831574324290127, -9.930976683129115, -9.647752430373691, -10.03110146607548, -9.84745124531628, -9.964196112551722, -9.691399470444937, -10.088516183696028, -9.959677393656408, -9.778442007003319, -10.03543665329774, -10.011864150360243, -9.638293968825668, -9.989848157365946, -10.061274329770871, -9.853987181870439, -9.78385835383649, -9.752727514857352, -9.770829551015185, -9.670095927824526, -9.800973012405645, -9.995479213908318, -9.87683707743808, -9.812462781642015, -10.058015287614767, -9.796669645012317, -9.853453678991126, -9.943654002072446, -9.810630431243501, -9.319041882469936, -9.962148744456467, -9.844499039088827, -9.554964994150955, -9.926750730413499, -9.867649615988842, -9.708584402827615, -9.852809662238714, -9.740980245833242, -10.029415618358424, -9.765861046570059, -10.068182927502555, -10.005353963288561, -9.991509925273645, -9.808800227826845, -9.832123591800281, -9.868605416017376, -9.660054672983387, -9.633276332906938, -9.651235132628226, -9.841688576677113, -9.938157332226984, -9.968841826713136, -9.9026730904778, -9.876498190225844, -9.691363572179736, -9.848354039743182, -10.02802365751705, -9.866291128911858, -9.64717220476475, -9.84383031447842, -9.882277849127856, -9.970616610369214, -9.552744604574517, -9.702357712233866, -9.868327418866533, -9.876363422044129, -9.945464686365222, -9.296635084569493, -9.90282825846489, -9.95158219189837, -9.798525431864583, -9.767650305363743, -9.94385352363489, -9.897132403043887, -9.788737534907497, -9.782847139168704, -9.954884948480423, -10.096040317642673, -9.883436026296659, -9.901254804726324, -9.897667454529962, -9.713645400110634, -9.814627792008872, -9.645914707643032, -9.837709857860299, -9.929593303026929, -9.59178325092194, -9.84464963902686, -9.922626000347114, -9.780866642006625, -9.592437503764115, -10.042530390920012, -9.816054636065704, -9.792393327606298, -9.833409948455234, -9.323482668869538, -9.721179694890065, -9.630251862034473, -10.024015596822238, -9.816428397925186, -9.96324353970441, -9.528850139520147, -9.879635401944489, -10.25418398696469, -9.972297256719628, -9.680952266303322, -9.971268778656084, -9.959974568808317, -10.08033973824069, -9.882438118385013, -9.923012167318912, -9.70003279795245, -9.791366751662295, -10.119011888429062, -9.781621506914597, -9.870946391012449, -9.879792528782318, -9.836796958849082, -9.838614443384717, -10.065003201753452, -9.655100711584113, -9.999828587288652, -9.66678989553534, -9.887684117156844, -10.018959682541476, -9.903611517811441, -9.864776435067546, -9.759982233830952, -9.956207281471183, -9.958976420212027, -9.617640733693246, -9.919424690343044, -9.9103035556284, -10.060422952770354, -9.812326738076383, -9.819192438122844, -9.797576327426263, -9.877953100260083, -9.848583221073621, -9.612719386402365, -9.821324819197683, -9.792365766639712, -9.879011339411765, -9.893732845838178, -9.900149250730816, -9.851225565329285, -9.81544200376128, -10.010094493776904, -9.752817840114693, -9.920642818643717, -9.8270891225615, -9.95670554782279, -9.976699399354331, -9.908730064667306, -9.631492352862226, -9.953510411109583, -9.628610816323866, -9.92505621346907, -9.31573367861959, -9.688032786972645, -9.9125585580858, -9.866151613758067, -10.085044041037264, -10.129202466816793, -9.974081905611508, -9.978680206607416, -9.82698590231482, -9.602648127017206, -9.709374543242427, -9.623776009123526, -9.83616784685254, -10.009439754192993, -9.723229737205257, -9.910230424658785, -9.921525393622916, -10.049880181040404, -9.980415173753313, -9.998479767895052, -9.888406205182633, -9.855832516321355, -9.992407291606899, -9.743961737541943, -9.804563889094162, -9.722448461595917, -9.733927697787943, -10.033258475189852, -10.151660399273055, -9.731918220048135, -9.918788265205428, -9.719250764130354, -10.058908672177626, -9.800126989861983, -9.787384562896102, -9.677658532835222, -9.377721148945561, -9.90593437095226, -9.716261570193426, -9.896706275037989, -9.929175979445736, -9.873827492391403, -9.697259633973948, -9.79423681490437, -9.701814675057001, -9.725816444550492, -9.72805260221861, -9.958216759605056, -9.905805912806773, -9.465974666221882, -10.076699378229756, -9.747062671502345, -9.548264647218769, -9.619757432168216, -9.642973512701506, -10.000504247552763, -9.812630811906846, -9.807266505465574, -9.94871455336693, -9.935592296432121, -9.8642870334021, -9.905807018458464, -9.689753177436936, -9.9812086969074, -9.879463498034161, -9.905787810561382, -9.856495344666966, -10.029920603911613, -9.730441477464101, -9.921693804797323, -9.962652543286007, -10.025225050916358, -9.875869374670533, -9.893935761715364, -9.812109721263043, -9.862034690320286, -9.774121979456165, -9.945031642483446, -10.0712664407898, -9.768628655547463, -9.922738942421876, -9.875633624127488, -9.742504820673688, -9.817514565900925, -9.807015681507998, -9.773107915572604, -9.865134643266675, -9.89861790041015, -9.615891890833673, -9.690955073000193, -9.934744251092924, -9.908985998532781, -9.901933943624996, -9.823650928433223, -9.436777619947803, -9.714639508554177, -9.785269169820545, -9.962693539269651, -9.907954459161994, -10.092758695509248, -9.677775758413219, -9.878473985729334, -9.683556195588707, -9.970095878827971, -9.94264258285786, -9.675891723743979, -9.90477917372493, -9.759267487276851, -9.791221607303934, -9.808289399505131, -9.600179854630024, -10.013189618102519, -9.461694732201954, -9.932405021763135, -9.637633908749956, -10.024348920382739, -9.783336950270616, -10.11153865845899, -9.691677702813342, -9.637641416456626, -9.940124700849708, -9.744227995898308, -9.661355704556517, -9.914319934779853, -9.989437205167754, -9.707999861485977, -9.728971765722061, -9.876782005511245, -9.709483591201643, -9.54219631400549, -9.622770682884855, -9.845831182908318, -9.923531698510036, -9.794740307964506, -9.945538013895952, -9.817130358657952, -9.855695681300123, -9.781191256852864, -9.993669976897205, -9.858941781134668, -9.991496486216366, -9.828292287335014, -9.923517120105284, -9.718796242658149, -9.742127626226289, -9.953437082306094, -10.013644658233675, -9.895481209540321, -9.613321385316238, -10.067254035809196, -9.693858208573033, -9.689357025244265, -9.864477333154959, -10.024328893452221, -9.736742349072767, -9.805918679677063, -9.916901374399306, -9.622207664266723, -9.927093646971239, -9.604043572320741, -9.889119422827532, -9.69303560177522, -10.018273558082418, -10.165336558542588, -9.673238168207629, -9.612863101181539, -10.128960181849132, -9.825462350318482, -10.126584267046802, -10.056309825719925, -9.784738780944021, -9.833555431234686, -9.946199632937846, -9.962616877466456, -9.791065187888051, -9.777905439569157, -9.686273685127771, -9.804255383271174, -9.620625574186262, -9.723410067043858, -9.836791113113538, -9.99384133313313, -9.677529248868883, -9.882572418062589, -9.634890451531213, -9.665630158768332, -9.786875174227927, -10.03858055227084, -9.807182412825899, -9.782319645363003, -9.868078065356551, -9.746739462843518, -9.808471668641582, -10.061585831764793, -9.850075094536745, -9.568502894750964, -10.046259503026493, -9.825117680542423, -9.831429516767244, -9.741107289162542, -10.007338026252732, -10.119413994587036, -9.368675501271113, -9.882233346563572, -9.797516540611545, -9.536154382155626, -10.015357134608612, -10.011473944724234, -9.95881898844564, -9.722481054340422, -9.798339516227653, -9.924507986701979, -9.875113140185485, -9.974019912120102, -9.865757657791935, -9.727250610557608, -9.79904284120547, -9.760672222034074, -9.93873431414201]\n"
          ]
        },
        {
          "output_type": "execute_result",
          "data": {
            "text/plain": [
              "<matplotlib.legend.Legend at 0x7faff132a590>"
            ]
          },
          "metadata": {},
          "execution_count": 18
        },
        {
          "output_type": "display_data",
          "data": {
            "image/png": "[encoded data removed]",
            "text/plain": [
              "<Figure size 288x216 with 1 Axes>"
            ]
          },
          "metadata": {
            "needs_background": "light"
          }
        },
        {
          "output_type": "display_data",
          "data": {
            "image/png": "[encoded data removed]",
            "text/plain": [
              "<Figure size 576x432 with 1 Axes>"
            ]
          },
          "metadata": {
            "needs_background": "light"
          }
        }
      ]
    },
    {
      "cell_type": "code",
      "metadata": {
        "colab": {
          "base_uri": "https://localhost:8080/"
        },
        "id": "gtdON9p11Z6X",
        "outputId": "de1db1e5-98f1-4799-a86a-6cbaa4dd9431"
      },
      "source": [
        "print(\"f=t\")\n",
        "print(stats.describe(np.log(mass1)))\n",
        "print(\"f=t^3\")\n",
        "print(stats.describe(np.log(mass3)))\n",
        "print(\"f=t^5\")\n",
        "print(stats.describe(np.log(mass5)))\n",
        "print(\"f=t^7\")\n",
        "print(stats.describe(np.log(mass7)))\n",
        "print(\"f=t^9\")\n",
        "print(stats.describe(np.log(mass9)))"
      ],
      "id": "gtdON9p11Z6X",
      "execution_count": null,
      "outputs": [
        {
          "output_type": "stream",
          "name": "stdout",
          "text": [
            "f=t\n",
            "DescribeResult(nobs=10000, minmax=(-3.530519567304045, 10.775000879210669), mean=1.5937837226209286, variance=2.256863604079548, skewness=0.609913303625264, kurtosis=1.522972144286828)\n",
            "f=t^3\n",
            "DescribeResult(nobs=10000, minmax=(-6.55880169897717, 12.855452269139027), mean=2.517432297956461, variance=4.532024451780604, skewness=-0.06129847842989419, kurtosis=0.4620686274912651)\n",
            "f=t^5\n",
            "DescribeResult(nobs=10000, minmax=(-7.660190921137621, 16.982581746672313), mean=4.175412087980157, variance=7.846369762781031, skewness=-0.13129140587294724, kurtosis=0.1686096943532025)\n",
            "f=t^7\n",
            "DescribeResult(nobs=10000, minmax=(-7.003774911432554, 18.92206491992862), mean=6.289398889945454, variance=11.578074341836784, skewness=-0.11660249580447381, kurtosis=0.13205705682156088)\n",
            "f=t^9\n",
            "DescribeResult(nobs=10000, minmax=(-8.45648703482646, 24.527010771893), mean=8.488585003847884, variance=16.308581192915824, skewness=-0.015485439982343089, kurtosis=0.05960137944856747)\n"
          ]
        }
      ]
    },
    {
      "cell_type": "code",
      "metadata": {
        "id": "gjg305h-2FQo"
      },
      "source": [
        "### Same additive different multiplicative\n",
        "def growthFunctionM(m0,t,k):\n",
        "    # return m0*np.exp(Lambda*t)\n",
        "    return m0*(1+t**k)+t\n",
        "\n",
        "trials = 1000\n",
        "n= 100\n",
        "m0 = 1\n",
        "\n",
        "def distributionM(n,m0,trials,k):\n",
        "    masses = []\n",
        "    thetaList = genThetas(n*trials)\n",
        "    tauList = genTaus((n+1)*trials)\n",
        "    for j in range(trials):\n",
        "        mass = m0\n",
        "        theta = thetaList[j*n:j*n+n]\n",
        "        tau = tauList[j*(n+1):j*(n+1)+(n+1)]\n",
        "    #     print(theta)\n",
        "    #     print(tau)\n",
        "\n",
        "        for i in range(1,n):\n",
        "            mass = growthFunctionM(mass,tau[i],k)\n",
        "            mass = mass*theta[i]\n",
        "\n",
        "        mass = growthFunctionM(mass,tau[-1],k)\n",
        "\n",
        "        masses.append(mass)\n",
        "    return masses\n",
        "\n",
        "mass1 = distributionM(n,m0,trials,1)\n",
        "mass2 = distributionM(n,m0,trials,2)\n",
        "mass3 = distributionM(n,m0,trials,3)\n",
        "mass4 = distributionM(n,m0,trials,4)\n",
        "mass5 = distributionM(n,m0,trials,5)\n",
        "mass6 = distributionM(n,m0,trials,6)\n",
        "mass7 = distributionM(n,m0,trials,7)\n",
        "mass8 = distributionM(n,m0,trials,8)\n",
        "mass9 = distributionM(n,m0,trials,9)\n",
        "mass10 = distributionM(n,m0,trials,10)"
      ],
      "id": "gjg305h-2FQo",
      "execution_count": null,
      "outputs": []
    },
    {
      "cell_type": "code",
      "metadata": {
        "colab": {
          "base_uri": "https://localhost:8080/",
          "height": 266
        },
        "id": "ZNhDJfMS3DBr",
        "outputId": "2d5a50c2-c95a-4285-9409-92199c438824"
      },
      "source": [
        "fig, ux = plt.subplots(figsize=(4,3), sharex=False)\n",
        "sns.kdeplot(np.log(mass1),label=r\"$g(t)=1+t$\")\n",
        "sns.kdeplot(np.log(mass2),label=r\"$g(t)=1+t^2$\")\n",
        "sns.kdeplot(np.log(mass3),label=r\"$g(t)=1+t^3$\")\n",
        "sns.kdeplot(np.log(mass4),label=r\"$g(t)=1+t^4$\")\n",
        "#sns.kdeplot(np.log(mass5),label=\"f=t^5\")\n",
        "#sns.kdeplot(np.log(mass6),label=\"f=t^6\")\n",
        "sns.kdeplot(np.log(mass7),label=r\"$g(t)=1+t^7$\")\n",
        "#sns.kdeplot(np.log(mass8),label=\"f=t^8\")\n",
        "sns.kdeplot(np.log(mass9),label=r\"$g(t)=1+t^9$\")\n",
        "#sns.kdeplot(np.log(mass10),label=\"f=t^10\")\n",
        "plt.title(r\"$h(m,t)=m(1+t^k)+t$\")\n",
        "plt.xlabel(r\"$log(m)$\")\n",
        "plt.xlim(left=-20,right=50)\n",
        "plt.legend(loc='best')"
      ],
      "id": "ZNhDJfMS3DBr",
      "execution_count": null,
      "outputs": [
        {
          "output_type": "execute_result",
          "data": {
            "text/plain": [
              "<matplotlib.legend.Legend at 0x7fafca2582d0>"
            ]
          },
          "metadata": {},
          "execution_count": 21
        },
        {
          "output_type": "display_data",
          "data": {
            "image/png": "[encoded data removed]",
            "text/plain": [
              "<Figure size 288x216 with 1 Axes>"
            ]
          },
          "metadata": {
            "needs_background": "light"
          }
        }
      ]
    },
    {
      "cell_type": "code",
      "metadata": {
        "colab": {
          "base_uri": "https://localhost:8080/"
        },
        "id": "zcrIy7JM3sfq",
        "outputId": "0339fa97-80dc-4809-d9e8-06fc92cc7edb"
      },
      "source": [
        "print(\"g=t\")\n",
        "print(stats.describe(np.log(mass1)))\n",
        "print(\"g=t^2\")\n",
        "print(stats.describe(np.log(mass2)))\n",
        "print(\"g=t^3\")\n",
        "print(stats.describe(np.log(mass3)))\n",
        "print(\"g=t^4\")\n",
        "print(stats.describe(np.log(mass4)))\n",
        "print(\"g=t^5\")\n",
        "print(stats.describe(np.log(mass5)))"
      ],
      "id": "zcrIy7JM3sfq",
      "execution_count": null,
      "outputs": [
        {
          "output_type": "stream",
          "name": "stdout",
          "text": [
            "g=t\n",
            "DescribeResult(nobs=10000, minmax=(-5.421973374864516, 10.015717985087203), mean=1.5621076275910106, variance=2.2324444446036598, skewness=0.6180340066868294, kurtosis=1.5203997074748532)\n",
            "g=t^2\n",
            "DescribeResult(nobs=10000, minmax=(-5.0537724853311925, 22.969203473683812), mean=2.4813450552123233, variance=6.947500582521243, skewness=1.5998113197513038, kurtosis=4.56960943363525)\n",
            "g=t^3\n",
            "DescribeResult(nobs=10000, minmax=(-3.697675823248802, 70.68131436900615), mean=6.876742415344613, variance=52.204359279366784, skewness=1.9825472505939592, kurtosis=6.0206655816703325)\n",
            "g=t^4\n",
            "DescribeResult(nobs=10000, minmax=(-2.2201226446239013, 237.9566186592732), mean=56.11604996048898, variance=1546.4331827743238, skewness=0.8060290163150324, kurtosis=0.3773085409304544)\n",
            "g=t^5\n",
            "DescribeResult(nobs=10000, minmax=(2.721018852636465, 489.4842956356773), mean=224.3729071214106, variance=4239.637681367979, skewness=0.057135134407701925, kurtosis=-0.04549961473269715)\n"
          ]
        }
      ]
    },
    {
      "cell_type": "code",
      "metadata": {
        "id": "3bca055c",
        "colab": {
          "base_uri": "https://localhost:8080/",
          "height": 374
        },
        "outputId": "20ab2140-2f9c-4bac-98a4-2679264a009a"
      },
      "source": [
        "trials = 10000\n",
        "n= 100\n",
        "m0 = 1\n",
        "\n",
        "\n",
        "def logDistribution(n,m0,trials):\n",
        "    masses = []\n",
        "    for j in range(trials):\n",
        "        logMass = 0\n",
        "        theta = genThetas(n)\n",
        "        T_n = genGamma(n)\n",
        "        logMass = logMass + Lambda*T_n\n",
        "\n",
        "        for i in range(1,n):\n",
        "            logMass = logMass+np.log(theta[i])\n",
        "\n",
        "        masses.append(logMass)\n",
        "    #print(masses)\n",
        "    return masses\n",
        "        \n",
        "mass = logDistribution(n,m0,trials)\n",
        "fig, bx = plt.subplots(figsize=(8,6), sharex=False)\n",
        "plt.hist(mass, color = 'blue', edgecolor = 'black',bins = 500);"
      ],
      "id": "3bca055c",
      "execution_count": null,
      "outputs": [
        {
          "output_type": "display_data",
          "data": {
            "image/png": "[encoded data removed]",
            "text/plain": [
              "<Figure size 576x432 with 1 Axes>"
            ]
          },
          "metadata": {
            "tags": [],
            "needs_background": "light"
          }
        }
      ]
    },
    {
      "cell_type": "code",
      "metadata": {
        "colab": {
          "base_uri": "https://localhost:8080/",
          "height": 374
        },
        "id": "StFCOAm6fKdA",
        "outputId": "72112099-ed23-47d0-ae4c-bbae87ff2e36"
      },
      "source": [
        "# Polynomial Growth\n",
        "\n",
        "trials = 1000\n",
        "n= 100\n",
        "m0 = 1\n",
        "k = 1\n",
        "\n",
        "\n",
        "def logDistribution(n,m0,trials):\n",
        "    masses = []\n",
        "    for j in range(trials):\n",
        "        mass = m0\n",
        "        theta = genThetas(n)\n",
        "        tau = genTaus(n)\n",
        "    #     print(theta)\n",
        "    #     print(tau)\n",
        "\n",
        "        for i in range(1,n):\n",
        "            mass = growthFunction(mass,tau[i])\n",
        "            mass = mass*theta[i]\n",
        "\n",
        "        masses.append(np.log(mass))\n",
        "    return masses\n",
        "        \n",
        "mass = logDistribution(n,m0,trials)\n",
        "fig, bx = plt.subplots(figsize=(8,6), sharex=False)\n",
        "plt.hist(mass, color = 'blue', edgecolor = 'black',bins = 500);"
      ],
      "id": "StFCOAm6fKdA",
      "execution_count": null,
      "outputs": [
        {
          "output_type": "display_data",
          "data": {
            "image/png": "[encoded data removed]",
            "text/plain": [
              "<Figure size 576x432 with 1 Axes>"
            ]
          },
          "metadata": {
            "tags": [],
            "needs_background": "light"
          }
        }
      ]
    }
  ]
}